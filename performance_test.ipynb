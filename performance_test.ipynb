{
 "cells": [
  {
   "cell_type": "markdown",
   "metadata": {},
   "source": [
    "# <center>Performance Test"
   ]
  },
  {
   "cell_type": "markdown",
   "metadata": {},
   "source": [
    "This notebook performs speed tests on the module `qm` for when Numba is used and when it is not. Depending on the type of computer and the libraries installed, the performance of Numba will vary. If it turns out that using Numba is slowing things down, go to the subfolder `./qm` and delete `qm_numba.py`."
   ]
  },
  {
   "cell_type": "code",
   "execution_count": null,
   "metadata": {
    "colab": {
     "base_uri": "https://localhost:8080/",
     "height": 427
    },
    "colab_type": "code",
    "id": "BgaPa-xnXI1s",
    "outputId": "aa21f8e2-7d91-499e-9949-c5e44f995d50"
   },
   "outputs": [],
   "source": [
    "import qm.qm as module1\n",
    "try:\n",
    "    import qm.qm_numba as module2\n",
    "except:\n",
    "    pass\n",
    "\n",
    "from time import perf_counter\n",
    "import numpy as np\n",
    "import matplotlib.pyplot as plt\n",
    "\n",
    "def test(module):\n",
    "    x = np.linspace(-0.5, 0.5, 512)\n",
    "        \n",
    "    print(\"Time of ... \")\n",
    "    print(\"constructing U(t):\")\n",
    "    time_list = []\n",
    "\n",
    "    for _ in range (1):\n",
    "        t1 = perf_counter()\n",
    "        U = module.UnitaryOperator1D(x**2)\n",
    "        t2 = perf_counter()\n",
    "        time_list.append(t2-t1)\n",
    "\n",
    "    print(sum(time_list)/len(time_list))\n",
    "      \n",
    "    def gauss(x, sigma):\n",
    "        u = np.array([xi/sigma for xi in x], np.complex128)\n",
    "        return np.exp(-0.5*u**2)\n",
    "\n",
    "    psi = module.Wavefunction1D(gauss(x-0.25,0.1))\n",
    "      \n",
    "    print(\"evolving wavefunction 1000 times:\")\n",
    "    t1 = perf_counter()\n",
    "    for _ in range (1000):\n",
    "        U(psi)\n",
    "    t2 = perf_counter()\n",
    "    print(t2 - t1)\n",
    "        \n",
    "    print(\"computing eigenvectors and eigenvalues:\")\n",
    "    t1 = perf_counter()\n",
    "    U.set_energy_eigenstates() \n",
    "    t2 = perf_counter()\n",
    "    print(t2 - t1)\n",
    "      \n",
    "    plt.title(\"Wavefunction in SHO\")\n",
    "    plt.plot(x, np.real(psi.x), label = \"Re($\\psi(x)$)\")\n",
    "    plt.plot(x, np.imag(psi.x), label = \"Im($\\psi(x)$)\")\n",
    "    plt.plot(x, np.abs(psi.x), label = \"$|\\psi(x)|$\", color=\"black\")\n",
    "    plt.legend()\n",
    "    plt.xlabel(\"x (Natural Units)\")\n",
    "    plt.grid()\n",
    "      \n",
    "    plt.show()\n",
    "    plt.close()"
   ]
  },
  {
   "cell_type": "markdown",
   "metadata": {},
   "source": [
    "#### Here are the performance stats without Numba:"
   ]
  },
  {
   "cell_type": "code",
   "execution_count": null,
   "metadata": {},
   "outputs": [],
   "source": [
    "test(module1)"
   ]
  },
  {
   "cell_type": "markdown",
   "metadata": {},
   "source": [
    "#### Here are the performance stats with Numba:"
   ]
  },
  {
   "cell_type": "code",
   "execution_count": null,
   "metadata": {},
   "outputs": [],
   "source": [
    "test(module2)"
   ]
  },
  {
   "cell_type": "code",
   "execution_count": null,
   "metadata": {},
   "outputs": [],
   "source": []
  }
 ],
 "metadata": {
  "colab": {
   "collapsed_sections": [],
   "name": "Untitled1.ipynb",
   "provenance": [],
   "version": "0.3.2"
  },
  "kernelspec": {
   "display_name": "Python 3",
   "language": "python",
   "name": "python3"
  },
  "language_info": {
   "codemirror_mode": {
    "name": "ipython",
    "version": 3
   },
   "file_extension": ".py",
   "mimetype": "text/x-python",
   "name": "python",
   "nbconvert_exporter": "python",
   "pygments_lexer": "ipython3",
   "version": "3.5.3"
  }
 },
 "nbformat": 4,
 "nbformat_minor": 1
}
